{
 "cells": [
  {
   "cell_type": "code",
   "execution_count": 1,
   "id": "fe71dc48",
   "metadata": {},
   "outputs": [],
   "source": [
    "import json\n",
    "from datetime import datetime, date\n",
    "import pandas as pd\n",
    "import matplotlib.pyplot as plt"
   ]
  },
  {
   "cell_type": "code",
   "execution_count": 5,
   "id": "7877cea0",
   "metadata": {},
   "outputs": [],
   "source": [
    "df = pd.read_csv('lec_spring_2023_test.csv')"
   ]
  },
  {
   "cell_type": "code",
   "execution_count": 7,
   "id": "229983ba",
   "metadata": {},
   "outputs": [],
   "source": [
    "def differences(df):\n",
    "    roles = [\"top\",\"jng\",\"mid\",\"adc\",\"sup\"]\n",
    "    times= [\"600\",\"840\"]\n",
    "\n",
    "    for side, opp_side in zip([\"blue\",\"red\"],[\"red\",\"blue\"]):\n",
    "        for role in roles:\n",
    "            for time in times:\n",
    "                for stat in [\"cs\", \"totalGold\"]:\n",
    "                    df[f\"{side}_{role}_{stat}_diff_{time}\"] = df[f\"{side}_{role}_{stat}_{time}\"] - df[f\"{opp_side}_{role}_{stat}_{time}\"]"
   ]
  },
  {
   "cell_type": "code",
   "execution_count": 9,
   "id": "f1685f24",
   "metadata": {},
   "outputs": [],
   "source": [
    "def statspermin(df):\n",
    "    roles = [\"top\",\"jng\",\"mid\",\"adc\",\"sup\"]\n",
    "\n",
    "    for side in [\"blue\",\"red\"]:\n",
    "        for role in roles:\n",
    "            for stat in [\"cs\", \"totalGold\", \"VISION_SCORE\", \"TOTAL_DAMAGE_DEALT_TO_CHAMPIONS\"]:\n",
    "                df[f\"{side}_{role}_{stat}_per_min\"] = df[f\"{side}_{role}_{stat}_end\"] /(df[\"duration\"] / 60)\n",
    "    return(df)"
   ]
  },
  {
   "cell_type": "code",
   "execution_count": 11,
   "id": "54ef3d47",
   "metadata": {},
   "outputs": [],
   "source": [
    "df = statspermin(df)"
   ]
  },
  {
   "cell_type": "code",
   "execution_count": 18,
   "id": "d5f57838",
   "metadata": {},
   "outputs": [],
   "source": []
  },
  {
   "cell_type": "code",
   "execution_count": 20,
   "id": "23e0314e",
   "metadata": {},
   "outputs": [],
   "source": [
    "with open(\"C:/GLOBAL POWER RANKINGS/esports-data/leagues.json\", \"r\") as json_file:\n",
    "                leagues = json.load(json_file)\n",
    "\n",
    "df = pd.DataFrame()\n",
    "for index,league in enumerate(leagues):\n",
    "    df.loc[index,\"League\"] = league[\"name\"]\n",
    "    df.loc[index, \"Priority\"] = league[\"priority\"]\n",
    "    df.loc[index, \"Region\"] = league[\"region\"]\n",
    "df.sort_values(\"Priority\", ascending=False)\n",
    "df.to_csv(\"Leagues.csv\", index = False)"
   ]
  },
  {
   "cell_type": "code",
   "execution_count": null,
   "id": "99040b88",
   "metadata": {},
   "outputs": [],
   "source": []
  }
 ],
 "metadata": {
  "kernelspec": {
   "display_name": "Python 3 (ipykernel)",
   "language": "python",
   "name": "python3"
  },
  "language_info": {
   "codemirror_mode": {
    "name": "ipython",
    "version": 3
   },
   "file_extension": ".py",
   "mimetype": "text/x-python",
   "name": "python",
   "nbconvert_exporter": "python",
   "pygments_lexer": "ipython3",
   "version": "3.9.7"
  }
 },
 "nbformat": 4,
 "nbformat_minor": 5
}
