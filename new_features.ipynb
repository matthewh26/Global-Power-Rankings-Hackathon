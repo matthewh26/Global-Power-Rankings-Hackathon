{
 "cells": [
  {
   "cell_type": "code",
   "execution_count": 1,
   "id": "ad26cacd",
   "metadata": {},
   "outputs": [],
   "source": [
    "import json\n",
    "from datetime import datetime, date\n",
    "import pandas as pd\n",
    "import matplotlib.pyplot as plt"
   ]
  },
  {
   "cell_type": "code",
   "execution_count": 21,
   "id": "161b4b6e",
   "metadata": {},
   "outputs": [],
   "source": [
    "df = pd.read_csv('lec_spring_2023_test.csv')"
   ]
  },
  {
   "cell_type": "code",
   "execution_count": 7,
   "id": "19e72794",
   "metadata": {},
   "outputs": [],
   "source": [
    "def differences(df):\n",
    "    roles = [\"top\",\"jng\",\"mid\",\"adc\",\"sup\"]\n",
    "    times= [\"600\",\"840\"]\n",
    "\n",
    "    for side, opp_side in zip([\"blue\",\"red\"],[\"red\",\"blue\"]):\n",
    "        for role in roles:\n",
    "            for time in times:\n",
    "                for stat in [\"cs\", \"totalGold\"]:\n",
    "                    df[f\"{side}_{role}_{stat}_diff_{time}\"] = df[f\"{side}_{role}_{stat}_{time}\"] - df[f\"{opp_side}_{role}_{stat}_{time}\"]"
   ]
  },
  {
   "cell_type": "code",
   "execution_count": 9,
   "id": "51e7de3c",
   "metadata": {},
   "outputs": [],
   "source": [
    "def statspermin(df):\n",
    "    roles = [\"top\",\"jng\",\"mid\",\"adc\",\"sup\"]\n",
    "\n",
    "    for side in [\"blue\",\"red\"]:\n",
    "        for role in roles:\n",
    "            for stat in [\"cs\", \"totalGold\", \"VISION_SCORE\", \"TOTAL_DAMAGE_DEALT_TO_CHAMPIONS\"]:\n",
    "                df[f\"{side}_{role}_{stat}_per_min\"] = df[f\"{side}_{role}_{stat}_end\"] /(df[\"duration\"] / 60)\n",
    "    return(df)"
   ]
  },
  {
   "cell_type": "code",
   "execution_count": 11,
   "id": "7d55ea3e",
   "metadata": {},
   "outputs": [],
   "source": [
    "df = statspermin(df)"
   ]
  },
  {
   "cell_type": "code",
   "execution_count": 27,
   "id": "4a4c73f5",
   "metadata": {},
   "outputs": [
    {
     "name": "stdout",
     "output_type": "stream",
     "text": [
      "55.57809330628803\n"
     ]
    }
   ],
   "source": [
    "counts = df[\"result\"].value_counts()\n",
    "blue_wr = (counts[1]/(counts[1]+counts[0]))*100\n",
    "print(blue_wr)"
   ]
  },
  {
   "cell_type": "code",
   "execution_count": 20,
   "id": "7aa29d11",
   "metadata": {},
   "outputs": [],
   "source": [
    "with open(\"C:/GLOBAL POWER RANKINGS/esports-data/leagues.json\", \"r\") as json_file:\n",
    "                leagues = json.load(json_file)\n",
    "\n",
    "df = pd.DataFrame()\n",
    "for index,league in enumerate(leagues):\n",
    "    df.loc[index,\"League\"] = league[\"name\"]\n",
    "    df.loc[index, \"Priority\"] = league[\"priority\"]\n",
    "    df.loc[index, \"Region\"] = league[\"region\"]\n",
    "df.sort_values(\"Priority\", ascending=False)\n",
    "df.to_csv(\"Leagues.csv\", index = False)"
   ]
  },
  {
   "cell_type": "code",
   "execution_count": null,
   "id": "f5f6bc7e",
   "metadata": {},
   "outputs": [],
   "source": []
  }
 ],
 "metadata": {
  "kernelspec": {
   "display_name": "Python 3 (ipykernel)",
   "language": "python",
   "name": "python3"
  },
  "language_info": {
   "codemirror_mode": {
    "name": "ipython",
    "version": 3
   },
   "file_extension": ".py",
   "mimetype": "text/x-python",
   "name": "python",
   "nbconvert_exporter": "python",
   "pygments_lexer": "ipython3",
   "version": "3.9.7"
  }
 },
 "nbformat": 4,
 "nbformat_minor": 5
}
